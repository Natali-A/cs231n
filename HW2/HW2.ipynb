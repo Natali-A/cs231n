{
 "cells": [
  {
   "cell_type": "markdown",
   "metadata": {},
   "source": [
    "# Exercise 2: Neural Networks\n",
    "\n",
    "In the previous exercise you implemented a binary classifier with one linear layer on a small portion of CIFAR-10. In this exercise, you will first implement a multi-class logistic regression model followed by a three layer neural network.\n",
    "\n",
    "## Submission guidelines:\n",
    "\n",
    "**Zip** all the files in the exercise directory excluding the data. Name the file `ex2_ID.zip`.\n",
    "\n",
    "## Read the following instructions carefully:\n",
    "\n",
    "1. This jupyter notebook contains all the step by step instructions needed for this exercise.\n",
    "2. Write **efficient vectorized** code whenever possible. \n",
    "3. You are responsible for the correctness of your code and should add as many tests as you see fit. Tests will not be graded nor checked.\n",
    "4. Do not change the functions we provided you. \n",
    "4. Write your functions in the instructed python modules only. All the logic you write is imported and used using this jupyter notebook. You are allowed to add functions as long as they are located in the python modules and are imported properly.\n",
    "5. You are allowed to use functions and methods from the [Python Standard Library](https://docs.python.org/3/library/) and [numpy](https://www.numpy.org/devdocs/reference/) only. Any other imports are forbidden.\n",
    "6. Your code must run without errors. Use `python 3` and `numpy 1.15.4`.\n",
    "7. **Before submitting the exercise, restart the kernel and run the notebook from start to finish to make sure everything works. Code that cannot run will not be tested.**\n",
    "8. Write your own code. Cheating will not be tolerated. \n",
    "9. Answers to qualitative questions should be written in **markdown** cells (with $\\LaTeX$ support)."
   ]
  },
  {
   "cell_type": "code",
   "execution_count": 2,
   "metadata": {},
   "outputs": [],
   "source": [
    "import os\n",
    "import numpy as np\n",
    "import matplotlib.pyplot as plt\n",
    "%matplotlib inline\n",
    "plt.rcParams['figure.figsize'] = (12.0, 8.0) # set default size of plots\n",
    "plt.rcParams['image.interpolation'] = 'nearest'\n",
    "plt.rcParams['image.cmap'] = 'gray'\n",
    "\n",
    "%load_ext autoreload\n",
    "%autoreload 2"
   ]
  },
  {
   "cell_type": "code",
   "execution_count": 3,
   "metadata": {},
   "outputs": [
    {
     "name": "stdout",
     "output_type": "stream",
     "text": [
      "Python version:  3.7.1\n",
      "Numpy version:  1.15.4\n"
     ]
    }
   ],
   "source": [
    "import platform\n",
    "print(\"Python version: \", platform.python_version())\n",
    "print(\"Numpy version: \", np.__version__)"
   ]
  },
  {
   "cell_type": "markdown",
   "metadata": {},
   "source": [
    "# Logistic Regression\n",
    "\n",
    "During this exercise, you are allowed (and encouraged) to use your code from HW1.\n",
    "\n",
    "## Load Data - CIFAR-10\n",
    "\n",
    "The next few cells will download and extract CIFAR-10 into `datasets/cifar10/` - notice you can copy and paste this dataset from the previous exercise or just download it again. The CIFAR-10 dataset consists of 60,000 32x32 color images in 10 classes, with 6,000 images per class. There are 50,000 training images and 10,000 test images. The dataset is divided into five training batches and one test batch, each with 10,000 images. The test batch contains exactly 1,000 randomly-selected images from each class.\n"
   ]
  },
  {
   "cell_type": "code",
   "execution_count": 5,
   "metadata": {},
   "outputs": [
    {
     "name": "stdout",
     "output_type": "stream",
     "text": [
      "Data has apparently already been downloaded and unpacked.\n"
     ]
    }
   ],
   "source": [
    "from datasets import load_cifar10\n",
    "URL = \"https://www.cs.toronto.edu/~kriz/cifar-10-python.tar.gz\"\n",
    "PATH = 'datasets/cifar10/' # the script will create required directories\n",
    "load_cifar10.maybe_download_and_extract(URL, PATH) "
   ]
  },
  {
   "cell_type": "code",
   "execution_count": 6,
   "metadata": {},
   "outputs": [
    {
     "name": "stdout",
     "output_type": "stream",
     "text": [
      "(49000, 3073)\n",
      "(1000, 3073)\n",
      "(1000, 3073)\n"
     ]
    }
   ],
   "source": [
    "CIFAR10_PATH = os.path.join(PATH, 'cifar-10-batches-py')\n",
    "X_train, y_train, X_test, y_test = load_cifar10.load(CIFAR10_PATH) # load the entire data\n",
    "\n",
    "# define a splitting for the data\n",
    "num_training = 49000\n",
    "num_validation = 1000\n",
    "num_testing = 1000\n",
    "\n",
    "# add a validation dataset for hyperparameter optimization\n",
    "mask = range(num_training)\n",
    "X_train = X_train[mask]\n",
    "y_train = y_train[mask]\n",
    "mask = range(num_validation)\n",
    "X_val = X_test[mask]\n",
    "y_val = y_test[mask]\n",
    "mask = range(num_validation, num_validation+num_testing)\n",
    "X_test = X_test[mask]\n",
    "y_test = y_test[mask]\n",
    "\n",
    "# float64\n",
    "X_train = X_train.astype(np.float64)\n",
    "X_val = X_val.astype(np.float64)\n",
    "X_test = X_test.astype(np.float64)\n",
    "\n",
    "# subtract the mean from all the images in the batch\n",
    "mean_image = np.mean(X_train, axis=0)\n",
    "X_train -= mean_image\n",
    "X_val -= mean_image\n",
    "X_test -= mean_image\n",
    "\n",
    "# flatten all the images in the batch (make sure you understand why this is needed)\n",
    "X_train = np.reshape(X_train, newshape=(X_train.shape[0], -1))\n",
    "X_val = np.reshape(X_val, newshape=(X_val.shape[0], -1)) \n",
    "X_test = np.reshape(X_test, newshape=(X_test.shape[0], -1)) \n",
    "\n",
    "# add a bias term to all images in the batch\n",
    "X_train = np.hstack([X_train, np.ones((X_train.shape[0], 1))]) \n",
    "X_val = np.hstack([X_val, np.ones((X_val.shape[0], 1))]) \n",
    "X_test = np.hstack([X_test, np.ones((X_test.shape[0], 1))]) \n",
    "\n",
    "print(X_train.shape)\n",
    "print(X_val.shape)\n",
    "print(X_test.shape)\n",
    "classes = ['plane', 'car', 'bird', 'cat', 'deer', 'dog', 'frog', 'horse', 'ship', 'truck']"
   ]
  },
  {
   "cell_type": "code",
   "execution_count": 7,
   "metadata": {},
   "outputs": [
    {
     "name": "stdout",
     "output_type": "stream",
     "text": [
      "         frog          deer          bird         horse\n"
     ]
    },
    {
     "data": {
      "image/png": "[encoded data removed]",
      "text/plain": [
       "<Figure size 432x288 with 1 Axes>"
      ]
     },
     "metadata": {
      "needs_background": "light"
     },
     "output_type": "display_data"
    }
   ],
   "source": [
    "def get_batch(X, y, n):\n",
    "    rand_items = np.random.randint(0, X.shape[0], size=n)\n",
    "    images = X[rand_items]\n",
    "    labels = y[rand_items]\n",
    "    return X, y\n",
    "\n",
    "def make_random_grid(x, y, n=4):\n",
    "    rand_items = np.random.randint(0, x.shape[0], size=n)\n",
    "    images = x[rand_items]\n",
    "    labels = y[rand_items]\n",
    "    grid = np.hstack((np.asarray((vec_2_img(i) + mean_image), dtype=np.int) for i in images))\n",
    "    print(' '.join('%13s' % classes[labels[j]] for j in range(4)))\n",
    "    return grid\n",
    "\n",
    "def vec_2_img(x):\n",
    "    x = np.reshape(x[:-1], (32, 32, 3))\n",
    "    return x\n",
    "\n",
    "X_batch, y_batch = get_batch(X_test, y_test, 4)\n",
    "plt.imshow(make_random_grid(X_batch, y_batch));"
   ]
  },
  {
   "cell_type": "markdown",
   "metadata": {},
   "source": [
    "Open the file `functions/classifier.py`. The constructor of the `LogisticRegression` class takes as input the dataset and labels in order to create appropriate parameters. Notice we are using the bias trick and only use the matrix `w` for convenience. Since we already have a (random) model, we can start predicting classes on images. Complete the method `predict` in the `LogisticRegression` class. **5 points**\n",
    "\n",
    "You can use your code from HW1. If you used vectorized code well, you should make very little changes."
   ]
  },
  {
   "cell_type": "code",
   "execution_count": 8,
   "metadata": {},
   "outputs": [
    {
     "name": "stdout",
     "output_type": "stream",
     "text": [
      "         deer         plane          deer          deer\n"
     ]
    },
    {
     "data": {
      "image/png": "[encoded data removed]",
      "text/plain": [
       "<Figure size 432x288 with 1 Axes>"
      ]
     },
     "metadata": {
      "needs_background": "light"
     },
     "output_type": "display_data"
    }
   ],
   "source": [
    "from functions.classifier import LogisticRegression\n",
    "classifier = LogisticRegression(X_train, y_train)\n",
    "y_pred = classifier.predict(X_test)\n",
    "X_batch, y_batch = get_batch(X_train, y_train, 4)\n",
    "plt.imshow(make_random_grid(X_batch, y_batch));"
   ]
  },
  {
   "cell_type": "code",
   "execution_count": 9,
   "metadata": {},
   "outputs": [
    {
     "name": "stdout",
     "output_type": "stream",
     "text": [
      "          dog          deer         horse          bird\n",
      "[3.1 5.2 8.9]\n",
      "[[0.64516129 0.57692308 0.56179775]\n",
      " [0.32258065 0.38461538 0.33707865]\n",
      " [0.03225806 0.03846154 0.1011236 ]]\n",
      "[0.1 3.  0.9]\n",
      "[ 2.30258509 -1.09861229  0.10536052]\n",
      "6.557438524302\n",
      "43\n"
     ]
    }
   ],
   "source": [
    "print(' '.join('%13s' % classes[y_pred[j]] for j in range(4)))\n",
    "\n",
    "a = np.array([[2,3,5],[1,2,3],[0.1,0.2,0.9]])\n",
    "b = np.sum(a, axis=0)\n",
    "print (b)\n",
    "c = a/b\n",
    "print (c)\n",
    "d = np.array([2,0,2])\n",
    "e = a[d,np.arange(3)]\n",
    "print (e)\n",
    "e = -np.log(e)\n",
    "print (e)\n",
    "W = np.array([[2,3,4],[1,2,3]])\n",
    "x = np.linalg.norm(W)\n",
    "print (x)\n",
    "print (np.sum(W*W))"
   ]
  },
  {
   "cell_type": "code",
   "execution_count": 10,
   "metadata": {},
   "outputs": [
    {
     "name": "stdout",
     "output_type": "stream",
     "text": [
      "model accuracy:  9.855102040816327\n"
     ]
    }
   ],
   "source": [
    "print(\"model accuracy: \", classifier.calc_accuracy(X_train, y_train))"
   ]
  },
  {
   "cell_type": "markdown",
   "metadata": {},
   "source": [
    "## Cross-entropy\n",
    "\n",
    "Open the file `functions/losses.py`. Complete the function `softmax_loss_vectorized` using vectorized code. This function takes as input the weights `W`, data `X`, labels `y` and a regularization term `reg` and outputs the calculated loss as a single number and the gradients with respect to W. Don't forget the regularization. **5 points**"
   ]
  },
  {
   "cell_type": "code",
   "execution_count": 11,
   "metadata": {},
   "outputs": [
    {
     "name": "stdout",
     "output_type": "stream",
     "text": [
      "loss: 2.356335\n",
      "sanity check: 2.302585\n"
     ]
    }
   ],
   "source": [
    "from functions.losses import softmax_loss_vectorized\n",
    "W = np.random.randn(3073, 10) * 0.0001\n",
    "loss_naive, grad_naive = softmax_loss_vectorized(W, X_val, y_val, 0.00000)\n",
    "print ('loss: %f' % (loss_naive, ))\n",
    "print ('sanity check: %f' % (-np.log(0.1))) # should be close but not the same"
   ]
  },
  {
   "cell_type": "markdown",
   "metadata": {},
   "source": [
    "## Inline Question 1:\n",
    "Why do we expect our loss to be close to -log(0.1)? **Explain briefly.**\n",
    "\n",
    "**Your answer:**\n",
    "Becuase the data consists of  the same number of images from each class, and we have 10 classes - so the probability for each class given a x(i) is 1/10. According to the Loss equation the loss in that case equals to -log(0.1)."
   ]
  },
  {
   "cell_type": "markdown",
   "metadata": {},
   "source": [
    "Use the following cell to test your implementation of the gradients."
   ]
  },
  {
   "cell_type": "code",
   "execution_count": 12,
   "metadata": {},
   "outputs": [
    {
     "name": "stdout",
     "output_type": "stream",
     "text": [
      "numerical: -0.446666 analytic: -0.446666, relative error: 3.423987e-08\n",
      "numerical: 2.083609 analytic: 2.083608, relative error: 2.727991e-08\n",
      "numerical: 2.174468 analytic: 2.174468, relative error: 3.372251e-08\n",
      "numerical: -1.220916 analytic: -1.220916, relative error: 2.368500e-08\n",
      "numerical: -0.085072 analytic: -0.085072, relative error: 2.070902e-08\n",
      "numerical: 3.806786 analytic: 3.806786, relative error: 1.837697e-08\n",
      "numerical: 1.348766 analytic: 1.348766, relative error: 7.129665e-08\n",
      "numerical: -1.817117 analytic: -1.817117, relative error: 4.896638e-09\n",
      "numerical: -0.185752 analytic: -0.185752, relative error: 1.437942e-07\n",
      "numerical: -2.088534 analytic: -2.088534, relative error: 2.887874e-09\n"
     ]
    }
   ],
   "source": [
    "from functions.losses import grad_check\n",
    "\n",
    "loss, grad = softmax_loss_vectorized(W, X_val, y_val, 1)\n",
    "f = lambda w: softmax_loss_vectorized(W, X_val, y_val, 1)[0]\n",
    "grad_numerical = grad_check(f, W, grad, num_checks=10)"
   ]
  },
  {
   "cell_type": "code",
   "execution_count": 13,
   "metadata": {},
   "outputs": [
    {
     "name": "stdout",
     "output_type": "stream",
     "text": [
      "iteration 0 / 1500: loss 10.018285\n",
      "iteration 100 / 1500: loss 4.914472\n",
      "iteration 200 / 1500: loss 3.118615\n",
      "iteration 300 / 1500: loss 2.484617\n",
      "iteration 400 / 1500: loss 2.154212\n",
      "iteration 500 / 1500: loss 2.214989\n",
      "iteration 600 / 1500: loss 2.075799\n",
      "iteration 700 / 1500: loss 2.101510\n",
      "iteration 800 / 1500: loss 2.027943\n",
      "iteration 900 / 1500: loss 2.073000\n",
      "iteration 1000 / 1500: loss 2.057837\n",
      "iteration 1100 / 1500: loss 2.092685\n",
      "iteration 1200 / 1500: loss 2.079919\n",
      "iteration 1300 / 1500: loss 2.083607\n",
      "iteration 1400 / 1500: loss 2.042260\n"
     ]
    }
   ],
   "source": [
    "from functions.classifier import LogisticRegression\n",
    "\n",
    "logistic = LogisticRegression(X_train, y_train)\n",
    "loss_history = logistic.train(X_train, y_train, \n",
    "                         learning_rate=1e-7,\n",
    "                         reg=5e4, \n",
    "                         num_iters=1500,\n",
    "                         verbose=True)\n"
   ]
  },
  {
   "cell_type": "code",
   "execution_count": 14,
   "metadata": {},
   "outputs": [
    {
     "data": {
      "image/png": "[encoded data removed]",
      "text/plain": [
       "<Figure size 432x288 with 1 Axes>"
      ]
     },
     "metadata": {
      "needs_background": "light"
     },
     "output_type": "display_data"
    }
   ],
   "source": [
    "plt.plot(loss_history)\n",
    "plt.xlabel('Iteration number')\n",
    "plt.ylabel('Loss value')\n",
    "plt.show()"
   ]
  },
  {
   "cell_type": "code",
   "execution_count": 15,
   "metadata": {},
   "outputs": [
    {
     "name": "stdout",
     "output_type": "stream",
     "text": [
      "Training accuracy:  33.00408163265306\n",
      "Testing accuracy:  31.900000000000002\n"
     ]
    }
   ],
   "source": [
    "print(\"Training accuracy: \", logistic.calc_accuracy(X_train, y_train))\n",
    "print(\"Testing accuracy: \", logistic.calc_accuracy(X_test, y_test))"
   ]
  },
  {
   "cell_type": "markdown",
   "metadata": {},
   "source": [
    "Use the validation set to tune hyperparameters by training different models (using the training dataset) and evaluating the performance using the validation dataset. Save the results in a dictionary mapping tuples of the form `(learning_rate, batch_size)` to tuples of the form `(training_accuracy, validation_accuracy)`. Finally, you should evaluate the best model on the testing dataset."
   ]
  },
  {
   "cell_type": "code",
   "execution_count": 158,
   "metadata": {},
   "outputs": [
    {
     "name": "stdout",
     "output_type": "stream",
     "text": [
      "iteration 0 / 1500: loss 609.367324\n",
      "iteration 100 / 1500: loss 605.127955\n",
      "iteration 200 / 1500: loss 600.912214\n",
      "iteration 300 / 1500: loss 596.697488\n",
      "iteration 400 / 1500: loss 592.553464\n",
      "iteration 500 / 1500: loss 588.443781\n",
      "iteration 600 / 1500: loss 584.332337\n",
      "iteration 700 / 1500: loss 580.251377\n",
      "iteration 800 / 1500: loss 576.239586\n",
      "iteration 900 / 1500: loss 572.191841\n",
      "iteration 1000 / 1500: loss 568.233542\n",
      "iteration 1100 / 1500: loss 564.288548\n",
      "iteration 1200 / 1500: loss 560.368161\n",
      "iteration 1300 / 1500: loss 556.444611\n",
      "iteration 1400 / 1500: loss 552.605297\n",
      "iteration 0 / 1500: loss 530.432282\n",
      "iteration 100 / 1500: loss 527.242662\n",
      "iteration 200 / 1500: loss 524.095549\n",
      "iteration 300 / 1500: loss 520.927313\n",
      "iteration 400 / 1500: loss 517.829365\n",
      "iteration 500 / 1500: loss 514.700301\n",
      "iteration 600 / 1500: loss 511.655796\n",
      "iteration 700 / 1500: loss 508.565052\n",
      "iteration 800 / 1500: loss 505.533055\n",
      "iteration 900 / 1500: loss 502.532492\n",
      "iteration 1000 / 1500: loss 499.553868\n",
      "iteration 1100 / 1500: loss 496.530273\n",
      "iteration 1200 / 1500: loss 493.589339\n",
      "iteration 1300 / 1500: loss 490.659574\n",
      "iteration 1400 / 1500: loss 487.691947\n",
      "iteration 0 / 1500: loss 440.227164\n",
      "iteration 100 / 1500: loss 438.019411\n",
      "iteration 200 / 1500: loss 435.871350\n",
      "iteration 300 / 1500: loss 433.662708\n",
      "iteration 400 / 1500: loss 431.484736\n",
      "iteration 500 / 1500: loss 429.353756\n",
      "iteration 600 / 1500: loss 427.186796\n",
      "iteration 700 / 1500: loss 425.118237\n",
      "iteration 800 / 1500: loss 422.917763\n",
      "iteration 900 / 1500: loss 420.774768\n",
      "iteration 1000 / 1500: loss 418.692794\n",
      "iteration 1100 / 1500: loss 416.631956\n",
      "iteration 1200 / 1500: loss 414.578326\n",
      "iteration 1300 / 1500: loss 412.474600\n",
      "iteration 1400 / 1500: loss 410.482132\n",
      "iteration 0 / 1500: loss 881.204556\n",
      "iteration 100 / 1500: loss 872.474897\n",
      "iteration 200 / 1500: loss 863.808756\n",
      "iteration 300 / 1500: loss 855.217832\n",
      "iteration 400 / 1500: loss 846.683209\n",
      "iteration 500 / 1500: loss 838.327151\n",
      "iteration 600 / 1500: loss 829.946242\n",
      "iteration 700 / 1500: loss 821.747042\n",
      "iteration 800 / 1500: loss 813.591239\n",
      "iteration 900 / 1500: loss 805.468382\n",
      "iteration 1000 / 1500: loss 797.456617\n",
      "iteration 1100 / 1500: loss 789.515508\n",
      "iteration 1200 / 1500: loss 781.786366\n",
      "iteration 1300 / 1500: loss 774.000058\n",
      "iteration 1400 / 1500: loss 766.360893\n",
      "iteration 0 / 1500: loss 46.531476\n",
      "iteration 100 / 1500: loss 46.444139\n",
      "iteration 200 / 1500: loss 46.450724\n",
      "iteration 300 / 1500: loss 46.414294\n",
      "iteration 400 / 1500: loss 46.353977\n",
      "iteration 500 / 1500: loss 46.384112\n",
      "iteration 600 / 1500: loss 46.334876\n",
      "iteration 700 / 1500: loss 46.333698\n",
      "iteration 800 / 1500: loss 46.300313\n",
      "iteration 900 / 1500: loss 46.256331\n",
      "iteration 1000 / 1500: loss 46.170007\n",
      "iteration 1100 / 1500: loss 46.180119\n",
      "iteration 1200 / 1500: loss 46.203267\n",
      "iteration 1300 / 1500: loss 46.095638\n",
      "iteration 1400 / 1500: loss 46.048289\n",
      "iteration 0 / 1500: loss 3.271350\n",
      "iteration 100 / 1500: loss 3.199320\n",
      "iteration 200 / 1500: loss 3.243181\n",
      "iteration 300 / 1500: loss 3.186102\n",
      "iteration 400 / 1500: loss 3.202918\n",
      "iteration 500 / 1500: loss 3.148411\n",
      "iteration 600 / 1500: loss 3.193738\n",
      "iteration 700 / 1500: loss 3.139555\n",
      "iteration 800 / 1500: loss 3.213965\n",
      "iteration 900 / 1500: loss 3.145778\n",
      "iteration 1000 / 1500: loss 3.101379\n",
      "iteration 1100 / 1500: loss 3.106489\n",
      "iteration 1200 / 1500: loss 3.091146\n",
      "iteration 1300 / 1500: loss 3.112344\n",
      "iteration 1400 / 1500: loss 3.096543\n",
      "iteration 0 / 1500: loss 617.226541\n",
      "iteration 100 / 1500: loss 575.344628\n",
      "iteration 200 / 1500: loss 536.477562\n",
      "iteration 300 / 1500: loss 500.334650\n",
      "iteration 400 / 1500: loss 466.812675\n",
      "iteration 500 / 1500: loss 435.523859\n",
      "iteration 600 / 1500: loss 406.483180\n",
      "iteration 700 / 1500: loss 379.429626\n",
      "iteration 800 / 1500: loss 354.220898\n",
      "iteration 900 / 1500: loss 330.813550\n",
      "iteration 1000 / 1500: loss 309.032541\n",
      "iteration 1100 / 1500: loss 288.760494\n",
      "iteration 1200 / 1500: loss 269.977352\n",
      "iteration 1300 / 1500: loss 252.524135\n",
      "iteration 1400 / 1500: loss 236.219927\n",
      "iteration 0 / 1500: loss 526.577659\n",
      "iteration 100 / 1500: loss 495.907400\n",
      "iteration 200 / 1500: loss 467.159285\n",
      "iteration 300 / 1500: loss 440.114521\n",
      "iteration 400 / 1500: loss 414.702989\n",
      "iteration 500 / 1500: loss 390.826433\n",
      "iteration 600 / 1500: loss 368.379998\n",
      "iteration 700 / 1500: loss 347.271286\n",
      "iteration 800 / 1500: loss 327.480650\n",
      "iteration 900 / 1500: loss 308.811986\n",
      "iteration 1000 / 1500: loss 291.325637\n",
      "iteration 1100 / 1500: loss 274.809163\n",
      "iteration 1200 / 1500: loss 259.419169\n",
      "iteration 1300 / 1500: loss 244.910532\n",
      "iteration 1400 / 1500: loss 231.258130\n",
      "iteration 0 / 1500: loss 440.327453\n",
      "iteration 100 / 1500: loss 418.832781\n",
      "iteration 200 / 1500: loss 398.474266\n",
      "iteration 300 / 1500: loss 379.247067\n",
      "iteration 400 / 1500: loss 360.930945\n",
      "iteration 500 / 1500: loss 343.565263\n",
      "iteration 600 / 1500: loss 327.096861\n",
      "iteration 700 / 1500: loss 311.417324\n",
      "iteration 800 / 1500: loss 296.566775\n",
      "iteration 900 / 1500: loss 282.553130\n",
      "iteration 1000 / 1500: loss 269.129538\n",
      "iteration 1100 / 1500: loss 256.325903\n",
      "iteration 1200 / 1500: loss 244.306470\n",
      "iteration 1300 / 1500: loss 232.847673\n",
      "iteration 1400 / 1500: loss 221.957611\n",
      "iteration 0 / 1500: loss 881.706402\n",
      "iteration 100 / 1500: loss 797.790527\n",
      "iteration 200 / 1500: loss 722.063661\n",
      "iteration 300 / 1500: loss 653.689402\n",
      "iteration 400 / 1500: loss 591.947919\n",
      "iteration 500 / 1500: loss 536.184140\n",
      "iteration 600 / 1500: loss 485.803846\n",
      "iteration 700 / 1500: loss 440.332444\n",
      "iteration 800 / 1500: loss 399.297303\n",
      "iteration 900 / 1500: loss 362.285571\n",
      "iteration 1000 / 1500: loss 328.905020\n",
      "iteration 1100 / 1500: loss 298.867740\n",
      "iteration 1200 / 1500: loss 271.773123\n",
      "iteration 1300 / 1500: loss 247.386669\n",
      "iteration 1400 / 1500: loss 225.496662\n",
      "iteration 0 / 1500: loss 46.379840\n",
      "iteration 100 / 1500: loss 46.065303\n",
      "iteration 200 / 1500: loss 45.790269\n",
      "iteration 300 / 1500: loss 45.468635\n",
      "iteration 400 / 1500: loss 45.316802\n",
      "iteration 500 / 1500: loss 45.085076\n",
      "iteration 600 / 1500: loss 44.952827\n",
      "iteration 700 / 1500: loss 44.601744\n",
      "iteration 800 / 1500: loss 44.495783\n",
      "iteration 900 / 1500: loss 44.210523\n",
      "iteration 1000 / 1500: loss 44.040691\n",
      "iteration 1100 / 1500: loss 43.803275\n",
      "iteration 1200 / 1500: loss 43.631416\n",
      "iteration 1300 / 1500: loss 43.388653\n",
      "iteration 1400 / 1500: loss 43.240303\n",
      "iteration 0 / 1500: loss 3.210860\n",
      "iteration 100 / 1500: loss 3.152160\n",
      "iteration 200 / 1500: loss 3.078333\n",
      "iteration 300 / 1500: loss 3.046421\n",
      "iteration 400 / 1500: loss 3.050714\n",
      "iteration 500 / 1500: loss 3.001681\n",
      "iteration 600 / 1500: loss 3.003732\n",
      "iteration 700 / 1500: loss 3.013444\n",
      "iteration 800 / 1500: loss 2.920739\n",
      "iteration 900 / 1500: loss 2.975462\n",
      "iteration 1000 / 1500: loss 2.912903\n",
      "iteration 1100 / 1500: loss 2.967830\n",
      "iteration 1200 / 1500: loss 2.870281\n",
      "iteration 1300 / 1500: loss 2.873425\n",
      "iteration 1400 / 1500: loss 2.921551\n",
      "iteration 0 / 1500: loss 618.281366\n",
      "iteration 100 / 1500: loss 159.929508\n",
      "iteration 200 / 1500: loss 66.302363\n",
      "iteration 300 / 1500: loss 57.286970\n",
      "iteration 400 / 1500: loss 55.927202\n",
      "iteration 500 / 1500: loss 57.312607\n",
      "iteration 600 / 1500: loss 56.359971\n",
      "iteration 700 / 1500: loss 57.103223\n",
      "iteration 800 / 1500: loss 56.840081\n",
      "iteration 900 / 1500: loss 56.610680\n",
      "iteration 1000 / 1500: loss 56.290376\n",
      "iteration 1100 / 1500: loss 56.261219\n",
      "iteration 1200 / 1500: loss 56.708498\n",
      "iteration 1300 / 1500: loss 57.014531\n",
      "iteration 1400 / 1500: loss 56.638474\n",
      "iteration 0 / 1500: loss 525.755093\n",
      "iteration 100 / 1500: loss 164.673558\n",
      "iteration 200 / 1500: loss 69.724377\n",
      "iteration 300 / 1500: loss 54.990591\n",
      "iteration 400 / 1500: loss 53.584113\n",
      "iteration 500 / 1500: loss 52.364895\n",
      "iteration 600 / 1500: loss 52.813923\n",
      "iteration 700 / 1500: loss 53.733348\n",
      "iteration 800 / 1500: loss 52.922506\n",
      "iteration 900 / 1500: loss 53.142245\n",
      "iteration 1000 / 1500: loss 53.603372\n",
      "iteration 1100 / 1500: loss 53.677944\n",
      "iteration 1200 / 1500: loss 53.585928\n",
      "iteration 1300 / 1500: loss 53.051343\n",
      "iteration 1400 / 1500: loss 52.664491\n",
      "iteration 0 / 1500: loss 439.500009\n",
      "iteration 100 / 1500: loss 166.585023\n",
      "iteration 200 / 1500: loss 75.667683\n",
      "iteration 300 / 1500: loss 53.249099\n",
      "iteration 400 / 1500: loss 49.298719\n",
      "iteration 500 / 1500: loss 49.172033\n",
      "iteration 600 / 1500: loss 49.228204\n",
      "iteration 700 / 1500: loss 49.711235\n"
     ]
    },
    {
     "name": "stdout",
     "output_type": "stream",
     "text": [
      "iteration 800 / 1500: loss 48.977983\n",
      "iteration 900 / 1500: loss 49.096563\n",
      "iteration 1000 / 1500: loss 49.109688\n",
      "iteration 1100 / 1500: loss 48.660034\n",
      "iteration 1200 / 1500: loss 48.629600\n",
      "iteration 1300 / 1500: loss 49.064683\n",
      "iteration 1400 / 1500: loss 48.969810\n",
      "iteration 0 / 1500: loss 876.579672\n",
      "iteration 100 / 1500: loss 132.972047\n",
      "iteration 200 / 1500: loss 68.141680\n",
      "iteration 300 / 1500: loss 65.490212\n",
      "iteration 400 / 1500: loss 64.391384\n",
      "iteration 500 / 1500: loss 65.467765\n",
      "iteration 600 / 1500: loss 65.075593\n",
      "iteration 700 / 1500: loss 65.212429\n",
      "iteration 800 / 1500: loss 65.409821\n",
      "iteration 900 / 1500: loss 65.499708\n",
      "iteration 1000 / 1500: loss 66.095013\n",
      "iteration 1100 / 1500: loss 66.443699\n",
      "iteration 1200 / 1500: loss 65.623336\n",
      "iteration 1300 / 1500: loss 65.827581\n",
      "iteration 1400 / 1500: loss 66.409470\n",
      "iteration 0 / 1500: loss 46.422663\n",
      "iteration 100 / 1500: loss 42.075327\n",
      "iteration 200 / 1500: loss 38.577968\n",
      "iteration 300 / 1500: loss 35.411846\n",
      "iteration 400 / 1500: loss 32.838045\n",
      "iteration 500 / 1500: loss 30.280631\n",
      "iteration 600 / 1500: loss 28.273564\n",
      "iteration 700 / 1500: loss 26.444166\n",
      "iteration 800 / 1500: loss 24.745103\n",
      "iteration 900 / 1500: loss 23.387692\n",
      "iteration 1000 / 1500: loss 22.217393\n",
      "iteration 1100 / 1500: loss 20.998618\n",
      "iteration 1200 / 1500: loss 20.173661\n",
      "iteration 1300 / 1500: loss 19.462679\n",
      "iteration 1400 / 1500: loss 18.735660\n",
      "iteration 0 / 1500: loss 3.232974\n",
      "iteration 100 / 1500: loss 2.886733\n",
      "iteration 200 / 1500: loss 2.754469\n",
      "iteration 300 / 1500: loss 2.763431\n",
      "iteration 400 / 1500: loss 2.782682\n",
      "iteration 500 / 1500: loss 2.678748\n",
      "iteration 600 / 1500: loss 2.926076\n",
      "iteration 700 / 1500: loss 2.840330\n",
      "iteration 800 / 1500: loss 2.785726\n",
      "iteration 900 / 1500: loss 2.734943\n",
      "iteration 1000 / 1500: loss 2.722342\n",
      "iteration 1100 / 1500: loss 2.744386\n",
      "iteration 1200 / 1500: loss 2.722580\n",
      "iteration 1300 / 1500: loss 2.779316\n",
      "iteration 1400 / 1500: loss 2.606962\n",
      "iteration 0 / 1500: loss 616.867196\n",
      "iteration 100 / 1500: loss 308.486842\n",
      "iteration 200 / 1500: loss 159.967266\n",
      "iteration 300 / 1500: loss 92.810070\n",
      "iteration 400 / 1500: loss 66.908692\n",
      "iteration 500 / 1500: loss 58.932157\n",
      "iteration 600 / 1500: loss 56.982350\n",
      "iteration 700 / 1500: loss 55.942063\n",
      "iteration 800 / 1500: loss 55.834103\n",
      "iteration 900 / 1500: loss 56.005998\n",
      "iteration 1000 / 1500: loss 56.490508\n",
      "iteration 1100 / 1500: loss 57.049956\n",
      "iteration 1200 / 1500: loss 56.830304\n",
      "iteration 1300 / 1500: loss 56.986020\n",
      "iteration 1400 / 1500: loss 55.897290\n",
      "iteration 0 / 1500: loss 527.217668\n",
      "iteration 100 / 1500: loss 291.242659\n",
      "iteration 200 / 1500: loss 165.124625\n",
      "iteration 300 / 1500: loss 100.445095\n",
      "iteration 400 / 1500: loss 70.587983\n",
      "iteration 500 / 1500: loss 58.888574\n",
      "iteration 600 / 1500: loss 54.575280\n",
      "iteration 700 / 1500: loss 53.545614\n",
      "iteration 800 / 1500: loss 53.110243\n",
      "iteration 900 / 1500: loss 52.949488\n",
      "iteration 1000 / 1500: loss 52.585633\n",
      "iteration 1100 / 1500: loss 52.909541\n",
      "iteration 1200 / 1500: loss 52.787447\n",
      "iteration 1300 / 1500: loss 52.918369\n",
      "iteration 1400 / 1500: loss 53.266387\n",
      "iteration 0 / 1500: loss 439.408824\n",
      "iteration 100 / 1500: loss 267.982205\n",
      "iteration 200 / 1500: loss 166.681414\n",
      "iteration 300 / 1500: loss 108.055628\n",
      "iteration 400 / 1500: loss 75.888304\n",
      "iteration 500 / 1500: loss 59.895126\n",
      "iteration 600 / 1500: loss 53.089628\n",
      "iteration 700 / 1500: loss 50.043240\n",
      "iteration 800 / 1500: loss 49.294411\n",
      "iteration 900 / 1500: loss 48.621459\n",
      "iteration 1000 / 1500: loss 48.482283\n",
      "iteration 1100 / 1500: loss 48.878900\n",
      "iteration 1200 / 1500: loss 48.706190\n",
      "iteration 1300 / 1500: loss 48.667845\n",
      "iteration 1400 / 1500: loss 48.845017\n",
      "iteration 0 / 1500: loss 877.186590\n",
      "iteration 100 / 1500: loss 326.229274\n",
      "iteration 200 / 1500: loss 134.071524\n",
      "iteration 300 / 1500: loss 78.074912\n",
      "iteration 400 / 1500: loss 66.951884\n",
      "iteration 500 / 1500: loss 65.917380\n",
      "iteration 600 / 1500: loss 65.181906\n",
      "iteration 700 / 1500: loss 65.332088\n",
      "iteration 800 / 1500: loss 65.761557\n",
      "iteration 900 / 1500: loss 64.556763\n",
      "iteration 1000 / 1500: loss 65.469102\n",
      "iteration 1100 / 1500: loss 65.233339\n",
      "iteration 1200 / 1500: loss 65.161061\n",
      "iteration 1300 / 1500: loss 65.193603\n",
      "iteration 1400 / 1500: loss 65.399304\n",
      "iteration 0 / 1500: loss 46.049893\n",
      "iteration 100 / 1500: loss 43.732628\n",
      "iteration 200 / 1500: loss 41.706967\n",
      "iteration 300 / 1500: loss 39.955163\n",
      "iteration 400 / 1500: loss 38.425220\n",
      "iteration 500 / 1500: loss 36.734351\n",
      "iteration 600 / 1500: loss 35.284905\n",
      "iteration 700 / 1500: loss 33.898296\n",
      "iteration 800 / 1500: loss 32.623848\n",
      "iteration 900 / 1500: loss 31.402012\n",
      "iteration 1000 / 1500: loss 30.286596\n",
      "iteration 1100 / 1500: loss 29.177943\n",
      "iteration 1200 / 1500: loss 28.098839\n",
      "iteration 1300 / 1500: loss 27.094698\n",
      "iteration 1400 / 1500: loss 26.224384\n",
      "iteration 0 / 1500: loss 3.248040\n",
      "iteration 100 / 1500: loss 2.962469\n",
      "iteration 200 / 1500: loss 2.909211\n",
      "iteration 300 / 1500: loss 2.856223\n",
      "iteration 400 / 1500: loss 2.758921\n",
      "iteration 500 / 1500: loss 2.800245\n",
      "iteration 600 / 1500: loss 2.701876\n",
      "iteration 700 / 1500: loss 2.763435\n",
      "iteration 800 / 1500: loss 2.822937\n",
      "iteration 900 / 1500: loss 2.756474\n",
      "iteration 1000 / 1500: loss 2.724350\n",
      "iteration 1100 / 1500: loss 2.740177\n",
      "iteration 1200 / 1500: loss 2.582605\n",
      "iteration 1300 / 1500: loss 2.750581\n",
      "iteration 1400 / 1500: loss 2.745786\n",
      "iteration 0 / 1500: loss 612.657099\n",
      "iteration 100 / 1500: loss 85.094535\n",
      "iteration 200 / 1500: loss 84.324742\n",
      "iteration 300 / 1500: loss 114.392316\n",
      "iteration 400 / 1500: loss 92.378051\n",
      "iteration 500 / 1500: loss 83.804986\n",
      "iteration 600 / 1500: loss 83.207751\n",
      "iteration 700 / 1500: loss 76.156822\n",
      "iteration 800 / 1500: loss 97.976397\n",
      "iteration 900 / 1500: loss 92.786037\n",
      "iteration 1000 / 1500: loss 118.704284\n",
      "iteration 1100 / 1500: loss 114.580611\n",
      "iteration 1200 / 1500: loss 98.558276\n",
      "iteration 1300 / 1500: loss 92.062406\n",
      "iteration 1400 / 1500: loss 101.877116\n",
      "iteration 0 / 1500: loss 527.291824\n",
      "iteration 100 / 1500: loss 72.065902\n",
      "iteration 200 / 1500: loss 79.086612\n",
      "iteration 300 / 1500: loss 89.224025\n",
      "iteration 400 / 1500: loss 75.598872\n",
      "iteration 500 / 1500: loss 66.913677\n",
      "iteration 600 / 1500: loss 90.310358\n",
      "iteration 700 / 1500: loss 66.847029\n",
      "iteration 800 / 1500: loss 104.916193\n",
      "iteration 900 / 1500: loss 75.862871\n",
      "iteration 1000 / 1500: loss 70.866580\n",
      "iteration 1100 / 1500: loss 77.368677\n",
      "iteration 1200 / 1500: loss 86.398059\n",
      "iteration 1300 / 1500: loss 85.502580\n",
      "iteration 1400 / 1500: loss 70.106756\n",
      "iteration 0 / 1500: loss 440.536547\n",
      "iteration 100 / 1500: loss 69.806656\n",
      "iteration 200 / 1500: loss 67.169658\n",
      "iteration 300 / 1500: loss 64.370222\n",
      "iteration 400 / 1500: loss 65.344385\n",
      "iteration 500 / 1500: loss 75.404156\n",
      "iteration 600 / 1500: loss 75.712886\n",
      "iteration 700 / 1500: loss 67.033309\n",
      "iteration 800 / 1500: loss 68.944809\n",
      "iteration 900 / 1500: loss 93.041635\n",
      "iteration 1000 / 1500: loss 76.268838\n",
      "iteration 1100 / 1500: loss 74.533842\n",
      "iteration 1200 / 1500: loss 71.971984\n",
      "iteration 1300 / 1500: loss 76.633625\n",
      "iteration 1400 / 1500: loss 62.814578\n",
      "iteration 0 / 1500: loss 880.803389\n",
      "iteration 100 / 1500: loss 174.209801\n",
      "iteration 200 / 1500: loss 161.994353\n",
      "iteration 300 / 1500: loss 117.227052\n",
      "iteration 400 / 1500: loss 201.010999\n",
      "iteration 500 / 1500: loss 141.783840\n",
      "iteration 600 / 1500: loss 194.635533\n",
      "iteration 700 / 1500: loss 188.539435\n",
      "iteration 800 / 1500: loss 196.872026\n",
      "iteration 900 / 1500: loss 194.775924\n",
      "iteration 1000 / 1500: loss 130.940324\n",
      "iteration 1100 / 1500: loss 138.105534\n",
      "iteration 1200 / 1500: loss 176.609909\n",
      "iteration 1300 / 1500: loss 134.593514\n",
      "iteration 1400 / 1500: loss 141.947647\n",
      "iteration 0 / 1500: loss 46.089920\n",
      "iteration 100 / 1500: loss 17.935138\n",
      "iteration 200 / 1500: loss 18.114036\n",
      "iteration 300 / 1500: loss 17.765761\n",
      "iteration 400 / 1500: loss 17.281406\n",
      "iteration 500 / 1500: loss 18.309001\n",
      "iteration 600 / 1500: loss 17.991222\n",
      "iteration 700 / 1500: loss 17.429701\n",
      "iteration 800 / 1500: loss 17.416771\n",
      "iteration 900 / 1500: loss 18.129948\n",
      "iteration 1000 / 1500: loss 17.597366\n",
      "iteration 1100 / 1500: loss 17.593670\n",
      "iteration 1200 / 1500: loss 17.595835\n",
      "iteration 1300 / 1500: loss 17.767960\n",
      "iteration 1400 / 1500: loss 17.322877\n",
      "iteration 0 / 1500: loss 3.315957\n",
      "iteration 100 / 1500: loss 2.844747\n",
      "iteration 200 / 1500: loss 2.906628\n",
      "iteration 300 / 1500: loss 3.045198\n"
     ]
    },
    {
     "name": "stdout",
     "output_type": "stream",
     "text": [
      "iteration 400 / 1500: loss 2.824829\n",
      "iteration 500 / 1500: loss 2.857527\n",
      "iteration 600 / 1500: loss 3.073884\n",
      "iteration 700 / 1500: loss 2.923435\n",
      "iteration 800 / 1500: loss 3.033109\n",
      "iteration 900 / 1500: loss 3.088560\n",
      "iteration 1000 / 1500: loss 3.051105\n",
      "iteration 1100 / 1500: loss 2.969902\n",
      "iteration 1200 / 1500: loss 2.904430\n",
      "iteration 1300 / 1500: loss 2.990513\n",
      "iteration 1400 / 1500: loss 3.024612\n",
      "lr 1.000000e-09 reg 1.000000e+02 train accuracy: 17.579592 val accuracy: 18.000000\n",
      "lr 1.000000e-09 reg 5.000000e+03 train accuracy: 14.718367 val accuracy: 13.400000\n",
      "lr 1.000000e-09 reg 5.000000e+04 train accuracy: 16.163265 val accuracy: 17.400000\n",
      "lr 1.000000e-09 reg 6.000000e+04 train accuracy: 16.469388 val accuracy: 15.600000\n",
      "lr 1.000000e-09 reg 7.000000e+04 train accuracy: 18.734694 val accuracy: 19.400000\n",
      "lr 1.000000e-09 reg 1.000000e+05 train accuracy: 19.161224 val accuracy: 19.300000\n",
      "lr 1.000000e-08 reg 1.000000e+02 train accuracy: 29.512245 val accuracy: 30.200000\n",
      "lr 1.000000e-08 reg 5.000000e+03 train accuracy: 29.534694 val accuracy: 31.600000\n",
      "lr 1.000000e-08 reg 5.000000e+04 train accuracy: 29.944898 val accuracy: 30.700000\n",
      "lr 1.000000e-08 reg 6.000000e+04 train accuracy: 29.414286 val accuracy: 30.500000\n",
      "lr 1.000000e-08 reg 7.000000e+04 train accuracy: 29.414286 val accuracy: 30.900000\n",
      "lr 1.000000e-08 reg 1.000000e+05 train accuracy: 29.379592 val accuracy: 30.100000\n",
      "lr 1.000000e-07 reg 1.000000e+02 train accuracy: 37.977551 val accuracy: 38.200000\n",
      "lr 1.000000e-07 reg 5.000000e+03 train accuracy: 37.875510 val accuracy: 37.900000\n",
      "lr 1.000000e-07 reg 5.000000e+04 train accuracy: 32.589796 val accuracy: 34.100000\n",
      "lr 1.000000e-07 reg 6.000000e+04 train accuracy: 32.542857 val accuracy: 33.600000\n",
      "lr 1.000000e-07 reg 7.000000e+04 train accuracy: 31.971429 val accuracy: 32.600000\n",
      "lr 1.000000e-07 reg 1.000000e+05 train accuracy: 31.351020 val accuracy: 31.900000\n",
      "lr 2.000000e-07 reg 1.000000e+02 train accuracy: 39.869388 val accuracy: 38.700000\n",
      "lr 2.000000e-07 reg 5.000000e+03 train accuracy: 38.810204 val accuracy: 38.100000\n",
      "lr 2.000000e-07 reg 5.000000e+04 train accuracy: 32.820408 val accuracy: 33.200000\n",
      "lr 2.000000e-07 reg 6.000000e+04 train accuracy: 31.818367 val accuracy: 33.000000\n",
      "lr 2.000000e-07 reg 7.000000e+04 train accuracy: 31.379592 val accuracy: 32.800000\n",
      "lr 2.000000e-07 reg 1.000000e+05 train accuracy: 31.624490 val accuracy: 32.000000\n",
      "lr 5.000000e-06 reg 1.000000e+02 train accuracy: 41.122449 val accuracy: 36.800000\n",
      "lr 5.000000e-06 reg 5.000000e+03 train accuracy: 32.277551 val accuracy: 30.000000\n",
      "lr 5.000000e-06 reg 5.000000e+04 train accuracy: 19.671429 val accuracy: 21.600000\n",
      "lr 5.000000e-06 reg 6.000000e+04 train accuracy: 24.173469 val accuracy: 24.200000\n",
      "lr 5.000000e-06 reg 7.000000e+04 train accuracy: 19.310204 val accuracy: 20.500000\n",
      "lr 5.000000e-06 reg 1.000000e+05 train accuracy: 18.200000 val accuracy: 19.200000\n",
      "best validation accuracy achieved during cross-validation: 38.700000\n",
      "Binary logistic regression on raw pixels final test set accuracy: 40.800000\n"
     ]
    }
   ],
   "source": [
    "# You are encouraged to experiment with additional values\n",
    "learning_rates = [1e-8, 2e-7, 1e-7, 5e-6]\n",
    "regularization_strengths = [6e4, 5e4, 1e5, 5e3, 1e2]\n",
    "results = {}\n",
    "best_val = -1   # The highest validation accuracy that we have seen so far.\n",
    "best_logistic = None # The LogisticRegression object that achieved the highest validation score.\n",
    "################################################################################\n",
    "#                            START OF YOUR CODE                                #\n",
    "################################################################################\n",
    "\n",
    "for lr in learning_rates:\n",
    "    for reg_strength in regularization_strengths:\n",
    "        \n",
    "        logistic = LogisticRegression(X_train, y_train)\n",
    "        loss_history = logistic.train(X_train, y_train, \n",
    "                                 learning_rate=lr,\n",
    "                                 reg=reg_strength, \n",
    "                                 num_iters=1500,\n",
    "                                 verbose=True)\n",
    "        \n",
    "        train_accuracy = logistic.calc_accuracy(X_train, y_train)\n",
    "        val_accuracy = logistic.calc_accuracy(X_val, y_val)\n",
    "        results[(lr, reg_strength)] = (train_accuracy, val_accuracy)\n",
    "\n",
    "        if (val_accuracy > best_val):\n",
    "            best_val = val_accuracy\n",
    "            best_logistic = logistic\n",
    "\n",
    "pass\n",
    "################################################################################\n",
    "#                              END OF YOUR CODE                                #\n",
    "################################################################################\n",
    "    \n",
    "# Print out results.\n",
    "for lr, reg in sorted(results):\n",
    "    train_accuracy, val_accuracy = results[(lr, reg)]\n",
    "    print ('lr %e reg %e train accuracy: %f val accuracy: %f' % (\n",
    "                lr, reg, train_accuracy, val_accuracy))\n",
    "    \n",
    "print ('best validation accuracy achieved during cross-validation: %f' % best_val)\n",
    "\n",
    "test_accuracy = logistic.calc_accuracy(X_test, y_test)\n",
    "print ('Binary logistic regression on raw pixels final test set accuracy: %f' % test_accuracy)"
   ]
  },
  {
   "cell_type": "code",
   "execution_count": 157,
   "metadata": {},
   "outputs": [
    {
     "data": {
      "image/png": "[encoded data removed]",
      "text/plain": [
       "<Figure size 864x576 with 10 Axes>"
      ]
     },
     "metadata": {
      "needs_background": "light"
     },
     "output_type": "display_data"
    }
   ],
   "source": [
    "classes = ['plane', 'car', 'bird', 'cat', 'deer', 'dog', 'frog', 'horse', 'ship', 'truck']\n",
    "w = best_logistic.W[:-1,:] # strip out the bias\n",
    "w = w.reshape(32, 32, 3, 10)\n",
    "w_min, w_max = np.min(w), np.max(w)\n",
    "for i in range(10):\n",
    "    plt.subplot(2, 5, i + 1)\n",
    "    # Rescale the weights to be between 0 and 255\n",
    "    wimg = 255.0 * (w[:, :, :, i].squeeze() - w_min) / (w_max - w_min)\n",
    "    plt.imshow(wimg.astype('uint8'))\n",
    "    plt.axis('off')\n",
    "    plt.title(classes[i])"
   ]
  },
  {
   "cell_type": "markdown",
   "metadata": {},
   "source": [
    "## Neural Network\n",
    "\n",
    "The implementation of linear regression was (hopefully) simple yet not very modular since the layer, loss and gradient were calculated as a single monolithic function. This would become impractical as we move towards bigger models. As a warmup towards `PyTorch`, we want to build networks using a more modular design so that we can implement different layer types in isolation and easily integrate them together into models with different architectures.\n",
    "\n",
    "This logic of isolation & integration is at the heart of all popular deep learning frameworks, and is based on two methods each layer holds - a forward and backward pass. The forward function will receive inputs, weights and other parameters and will return both an output and a cache object storing data needed for the backward pass. The backward pass will receive upstream derivatives and the cache, and will return gradients with respect to the inputs and weights. By implementing several types of layers this way, we will be able to easily combine them to build classifiers with different architectures with relative ease.\n",
    "\n",
    "We will implement a neural network to obtain better results on CIFAR-10. If you were careful, you should have got a classification accuracy of over 38% on the test set using a simple single layer network. However, using multiple layers we could reach around 50% accuracy. Our neural network will be implemented in the file `functions/neural_net.py`. We will train this network using softmax loss and L2 regularization and a ReLU non-linearity after the first two fully connected layers.\n",
    "\n",
    "### Fully Connected Layer: Forward Pass.\n",
    "\n",
    "Open the file `functions/layers.py` and implement the function `fc_forward` **7.5 points**."
   ]
  },
  {
   "cell_type": "code",
   "execution_count": 16,
   "metadata": {},
   "outputs": [
    {
     "name": "stdout",
     "output_type": "stream",
     "text": [
      "True\n"
     ]
    }
   ],
   "source": [
    "np.random.seed(42)\n",
    "from functions.layers import * \n",
    "\n",
    "num_instances = 5\n",
    "input_shape = (11, 7, 3)\n",
    "output_shape = 4\n",
    "\n",
    "X = np.random.randn(num_instances * np.prod(input_shape)).reshape(num_instances, *input_shape)\n",
    "W = np.random.randn(np.prod(input_shape) * output_shape).reshape(np.prod(input_shape), output_shape)\n",
    "b = np.random.randn(output_shape)\n",
    "\n",
    "out, _ = fc_forward(X, W, b)\n",
    "\n",
    "correct_out = np.array([[16.77132953,  1.43667172, -15.60205534,   7.15789287],\n",
    "                        [ -8.5994206,  7.59104298,  10.92160126,  17.19394331],\n",
    "                        [ 4.77874003,  2.25606192,  -6.10944859,  14.76954561],\n",
    "                        [21.21222953, 17.82329258,   4.53431782,  -9.88327913],\n",
    "                        [18.83041801, -2.55273817,  14.08484003,  -3.99196171]])\n",
    "\n",
    "print(np.isclose(out, correct_out, rtol=1e-8).all()) # simple test"
   ]
  },
  {
   "cell_type": "markdown",
   "metadata": {},
   "source": [
    "## Fully Connected Layer: Backward Pass\n",
    "\n",
    "Open the file `functions/layers.py` and implement the function `fc_backward` **7.5 points**."
   ]
  },
  {
   "cell_type": "code",
   "execution_count": 17,
   "metadata": {},
   "outputs": [
    {
     "data": {
      "text/plain": [
       "True"
      ]
     },
     "execution_count": 17,
     "metadata": {},
     "output_type": "execute_result"
    }
   ],
   "source": [
    "np.random.seed(42)\n",
    "x = np.random.randn(10, 2, 3)\n",
    "w = np.random.randn(6, 5)\n",
    "b = np.random.randn(5)\n",
    "dout = np.random.randn(10, 5)\n",
    "\n",
    "dx_num = eval_numerical_gradient_array(lambda x: fc_forward(x, w, b)[0], x, dout)\n",
    "dw_num = eval_numerical_gradient_array(lambda w: fc_forward(x, w, b)[0], w, dout)\n",
    "db_num = eval_numerical_gradient_array(lambda b: fc_forward(x, w, b)[0], b, dout)\n",
    "\n",
    "out, cache = fc_forward(x,w,b)\n",
    "dx, dw, db = fc_backward(dout, cache)\n",
    "\n",
    "np.isclose(dw, dw_num, rtol=1e-8).all() # simple test\n",
    "np.isclose(dx, dx_num, rtol=1e-8).all() # simple test\n",
    "np.isclose(db, db_num, rtol=1e-8).all() # simple test"
   ]
  },
  {
   "cell_type": "markdown",
   "metadata": {},
   "source": [
    "## ReLU: Forward Pass\n",
    "\n",
    "Open the file `functions/layers.py` and implement the function `relu_forward` **7.5 points**."
   ]
  },
  {
   "cell_type": "code",
   "execution_count": 18,
   "metadata": {},
   "outputs": [
    {
     "name": "stdout",
     "output_type": "stream",
     "text": [
      "True\n"
     ]
    }
   ],
   "source": [
    "x = np.linspace(-0.5, 0.5, num=12).reshape(3, 4)\n",
    "out, _ = relu_forward(x)\n",
    "correct_out = np.array([[ 0.,          0.,          0.,          0.,        ],\n",
    "                        [ 0.,          0.,          0.04545455,  0.13636364,],\n",
    "                        [ 0.22727273,  0.31818182,  0.40909091,  0.5,       ]])\n",
    "\n",
    "print(np.isclose(out, correct_out, rtol=1e-8).all()) # simple test"
   ]
  },
  {
   "cell_type": "markdown",
   "metadata": {},
   "source": [
    "## ReLU: Backward Pass\n",
    "\n",
    "Open the file `functions/layers.py` and implement the function `relu_backward` **7.5 points**."
   ]
  },
  {
   "cell_type": "code",
   "execution_count": 19,
   "metadata": {},
   "outputs": [
    {
     "data": {
      "text/plain": [
       "True"
      ]
     },
     "execution_count": 19,
     "metadata": {},
     "output_type": "execute_result"
    }
   ],
   "source": [
    "np.random.seed(42)\n",
    "x = np.random.randn(10, 10)\n",
    "dout = np.random.randn(*x.shape)\n",
    "dx_num = eval_numerical_gradient_array(lambda x: relu_forward(x)[0], x, dout)\n",
    "xx, cache = relu_forward(x)\n",
    "dx = relu_backward(dout, cache)\n",
    "\n",
    "np.isclose(dx, dx_num, rtol=1e-8).all()  # simple test"
   ]
  },
  {
   "cell_type": "markdown",
   "metadata": {},
   "source": [
    "**Optional**: you are given two helper functions in `functions/layers.py` - `fc_relu_forward` and `fc_relu_backward`. You might find it beneficial to use dedicated functions to calculate the forward and backward outputs of a fully connected layer immediately followed by a ReLU."
   ]
  },
  {
   "cell_type": "markdown",
   "metadata": {},
   "source": [
    "# Building the Network\n",
    "\n",
    "First, notice that we are leaving behind the bias trick and removing the bias from each image. "
   ]
  },
  {
   "cell_type": "code",
   "execution_count": 20,
   "metadata": {},
   "outputs": [
    {
     "name": "stdout",
     "output_type": "stream",
     "text": [
      "(49000, 3072)\n",
      "(1000, 3072)\n",
      "(1000, 3072)\n"
     ]
    }
   ],
   "source": [
    "X_train = np.array([x[:-1] for x in X_train])\n",
    "X_val = np.array([x[:-1] for x in X_val])\n",
    "X_test = np.array([x[:-1] for x in X_test])\n",
    "print(X_train.shape)\n",
    "print(X_val.shape)\n",
    "print(X_test.shape)"
   ]
  },
  {
   "cell_type": "markdown",
   "metadata": {},
   "source": [
    "Open the file `functions/neural_net.py` and complete the class `ThreeLayerNet`. All the implementation details are available in the file itself. Read the documentation carefully since the class of this network is slightly different from the network in the previous section of this exercise. **50 points**"
   ]
  },
  {
   "cell_type": "code",
   "execution_count": 35,
   "metadata": {},
   "outputs": [],
   "source": [
    "from functions.neural_net import ThreeLayerNet\n",
    "input_size = 32 * 32 * 3\n",
    "hidden_size = 50\n",
    "num_classes = 10\n",
    "model = ThreeLayerNet(input_size, hidden_size, num_classes)"
   ]
  },
  {
   "cell_type": "code",
   "execution_count": 36,
   "metadata": {},
   "outputs": [
    {
     "data": {
      "text/plain": [
       "'\\nstats = model.train(X_train, y_train, X_val, y_val,\\n            num_iters=1500, batch_size=200,\\n            learning_rate=1e-3, reg=0, verbose=True)\\n'"
      ]
     },
     "execution_count": 36,
     "metadata": {},
     "output_type": "execute_result"
    }
   ],
   "source": [
    "model.loss(X_train, y_train)\n",
    "\"\"\"\n",
    "stats = model.train(X_train, y_train, X_val, y_val,\n",
    "            num_iters=1500, batch_size=200,\n",
    "            learning_rate=1e-3, reg=0, verbose=True)\n",
    "\"\"\""
   ]
  },
  {
   "cell_type": "code",
   "execution_count": 37,
   "metadata": {},
   "outputs": [
    {
     "name": "stdout",
     "output_type": "stream",
     "text": [
      "Validation accuracy:  0.101\n"
     ]
    }
   ],
   "source": [
    "val_acc = (model.predict(X_val) == y_val).mean()\n",
    "print ('Validation accuracy: ', val_acc)"
   ]
  },
  {
   "cell_type": "code",
   "execution_count": 38,
   "metadata": {},
   "outputs": [
    {
     "data": {
      "image/png": "[encoded data removed]",
      "text/plain": [
       "<Figure size 432x288 with 2 Axes>"
      ]
     },
     "metadata": {
      "needs_background": "light"
     },
     "output_type": "display_data"
    }
   ],
   "source": [
    "# Plot the loss function and train / validation accuracies\n",
    "plt.subplot(2, 1, 1)\n",
    "plt.plot(stats['loss_history'])\n",
    "plt.title('Loss history')\n",
    "plt.xlabel('Iteration')\n",
    "plt.ylabel('Loss')\n",
    "\n",
    "plt.subplot(2, 1, 2)\n",
    "plt.plot(stats['train_acc_history'], label='train')\n",
    "plt.plot(stats['val_acc_history'], label='val')\n",
    "plt.title('Classification accuracy history')\n",
    "plt.xlabel('Epoch')\n",
    "plt.ylabel('Clasification accuracy')\n",
    "plt.show()"
   ]
  },
  {
   "cell_type": "markdown",
   "metadata": {},
   "source": [
    "Use the validation set to tune hyperparameters by training different models (using the training dataset) and evaluating the performance using the validation dataset. Save the results in a dictionary mapping tuples of the form `(learning_rate, hidden_size, regularization)` to tuples of the form `(training_accuracy, validation_accuracy)`. You should evaluate the best model on the testing dataset and print out the training, validation and testing accuracies for each of the models and provide a clear visualization. Highlight the best model w.r.t the testing accuracy. **10 points**"
   ]
  },
  {
   "cell_type": "code",
   "execution_count": null,
   "metadata": {},
   "outputs": [],
   "source": [
    "# You are encouraged to experiment with additional values\n",
    "learning_rates = [1e-7, 5e-6] # this time its up to you\n",
    "hidden_sizes = [30, 50, 70] # this time its up to you\n",
    "regularizations = [0.2, 0.4, 0.6] # this time its up to you\n",
    "\n",
    "results = {}\n",
    "best_val = -1   \n",
    "best_net = None \n",
    "################################################################################\n",
    "#                            START OF YOUR CODE                                #\n",
    "################################################################################\n",
    "\n",
    "for lr in learning_rates:\n",
    "    for hs in hidden_sizes:\n",
    "        for reg in regularizations:\n",
    "            model = ThreeLayerNet(input_size, hs, num_classes)\n",
    "            stats = model.train(X_train, y_train, X_val, y_val,\n",
    "                num_iters=1500, batch_size=200,\n",
    "                learning_rate=lr, reg=reg, verbose=True)\n",
    "\n",
    "            training_accuracy = (model.predict(X_train) == y_train).mean()\n",
    "            validation_accuracy = (model.predict(X_val) == y_val).mean()\n",
    "            results[(lr, hs, reg)] = (training_accuracy, validation_accuracy)\n",
    "            if validation_accuracy > best_val:\n",
    "                best_val = validation_accuracy\n",
    "                best_net = model\n",
    "\n",
    "# Print out results.\n",
    "for lr, hs, reg in sorted(results):\n",
    "    train_accuracy, val_accuracy = results[(lr, hs, reg)]\n",
    "    print('lr %e hs %e reg %e train accuracy: %f val accuracy: %f' % (\n",
    "                lr, hs, reg, train_accuracy, val_accuracy))\n",
    "\n",
    "print('best validation accuracy achieved during cross-validation: %f' % best_val)\n",
    "\n",
    "pass\n",
    "################################################################################\n",
    "#                              END OF YOUR CODE                                #\n",
    "################################################################################"
   ]
  },
  {
   "cell_type": "markdown",
   "metadata": {},
   "source": [
    "## Inline Question 2:\n",
    "What can you say about the training? Why does it take much longer to train? How could you speed up computation? What would happen to the network accuracy and training time when adding additional layer? What about additional hidden neurons?\n",
    "\n",
    "Your answer: The training is much slower since we have added additional layers (the hidden layers), which are heavy to compute (becuase we need to calculate the derivatives for each layer, we have much more features and not only the input layer)- every layer actually adds one more W matrix to train. We can speed up computation by running the trainning on a GPU which is fits to calculations of matrices' multiplication.\n",
    "When adding additional layer the accuracy will likely to grow (becuase the network is learning more details about the data, it's \"smarter\", until a certain point on which overfitting begins. The training time will of coures higher, since we add heavy computations.\n",
    "Additional hidden neurons will also help to certain extent until we have more neurons than input."
   ]
  },
  {
   "cell_type": "markdown",
   "metadata": {},
   "source": [
    "## Bonus \n",
    "Train a 5 hidden layer network with varying hidden layer size and plot the loss function and train / validation accuracies. **5 points**"
   ]
  },
  {
   "cell_type": "code",
   "execution_count": null,
   "metadata": {},
   "outputs": [],
   "source": [
    "## Your code here ##"
   ]
  }
 ],
 "metadata": {
  "kernelspec": {
   "display_name": "Python 3",
   "language": "python",
   "name": "python3"
  },
  "language_info": {
   "codemirror_mode": {
    "name": "ipython",
    "version": 3
   },
   "file_extension": ".py",
   "mimetype": "text/x-python",
   "name": "python",
   "nbconvert_exporter": "python",
   "pygments_lexer": "ipython3",
   "version": "3.7.1"
  }
 },
 "nbformat": 4,
 "nbformat_minor": 2
}
